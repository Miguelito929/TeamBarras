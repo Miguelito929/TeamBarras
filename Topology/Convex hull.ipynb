{
 "cells": [
  {
   "cell_type": "markdown",
   "id": "383ed065",
   "metadata": {},
   "source": [
    "## Combinación Convexa de Puntos"
   ]
  },
  {
   "cell_type": "code",
   "execution_count": 1,
   "id": "b24c0eea",
   "metadata": {},
   "outputs": [],
   "source": [
    "import matplotlib.pyplot as plt"
   ]
  },
  {
   "cell_type": "code",
   "execution_count": null,
   "id": "73bcd932",
   "metadata": {},
   "outputs": [],
   "source": [
    "class Punto:\n",
    "    def __init__(self, x, y):\n",
    "        self.x = x\n",
    "        self.y = y\n",
    "        \n",
    "    # Función de combinación convexa\n",
    "    \n",
    "def combinacion_convexa(punto1, punto2, t):\n",
    "    nueva_x = (1-t)*punto1.x+t*punto2.x\n",
    "    nueva_y = (1-t)*punto1.y+t*punto2.y\n",
    "\n",
    "    return Punto(nueva_x, nueva_y)\n",
    "\n",
    "def main():\n",
    "    x1 = float(input('Ingresa x1: '))\n",
    "    y1 = float(input('Ingresa y1: '))\n",
    "    \n",
    "    x2 = float(input('Ingresa x2: '))\n",
    "    y2 = float(input('Ingresa y2: '))\n",
    "    \n",
    "    t = float(input('Ingrese el valor de lambda '))\n",
    "    \n",
    "    punto1 = Punto(x1, y1)\n",
    "    punto2 = Punto(x2, y2)\n",
    "    \n",
    "    if 0 <= t <= 1:\n",
    "        punto_combinado = combinacion_convexa(punto1, punto2, t)\n",
    "        print('La combinación convexa de los puntos es: ', punto_combinado.x, punto_combinado.y)\n",
    "        \n",
    "        plt.plot([punto1.x, punto2.x], [punto1.y, punto2.y], marker = '^', label = 'Puntos Originales')\n",
    "        plt.plot([punto1.x, punto_combinado.x], [punto1.y, punto_combinado.y], \n",
    "                 color = 'red', label = 'Combinación Convexa')\n",
    "\n",
    "        plt.ylabel('Coordenada en Y')\n",
    "        plt.xlabel('Coordenada en X')\n",
    "        plt.title('Combinación Convexa de dos puntos')\n",
    "\n",
    "        plt.legend()\n",
    "        plt.grid(True)\n",
    "        plt.show()\n",
    "        \n",
    "    else: \n",
    "        print('El valor de lamba debe estar entre 0 y 1')\n",
    "        \n",
    "if __name__ == '__main__':\n",
    "    main()"
   ]
  },
  {
   "cell_type": "code",
   "execution_count": 6,
   "id": "c4479d69",
   "metadata": {},
   "outputs": [
    {
     "name": "stdout",
     "output_type": "stream",
     "text": [
      "La combinacion convexa de los puntos es:  <__main__.Punto object at 0x000001FDDA279480>\n"
     ]
    },
    {
     "data": {
      "image/png": "[encoded data removed]",
      "text/plain": [
       "<Figure size 640x480 with 1 Axes>"
      ]
     },
     "metadata": {},
     "output_type": "display_data"
    }
   ],
   "source": [
    "#Combinación Convexa de Puntos\n",
    "\n",
    "# Importación de librerías\n",
    "\n",
    "import matplotlib.pyplot as plt\n",
    "\n",
    "\n",
    "class Punto:\n",
    "    def __init__(self, x, y):\n",
    "        self.x = x\n",
    "        self.y = y\n",
    "    # Función de combinación convexa\n",
    "\n",
    "    def combinacion_convexa(punto1, punto2, t):\n",
    "        nueva_x = (1 - t)*punto1.x + t*punto2.x\n",
    "        nueva_y = (1 - t)*punto1.y + t*punto2.y\n",
    "        return Punto(nueva_x, nueva_y)\n",
    " \n",
    "    \n",
    "def main():\n",
    "    x1 = float(input(\"Ingresa x1: \"))\n",
    "    y1 = float(input(\"Ingresa y1: \"))\n",
    "    punto = Punto(x1, y1)\n",
    "        \n",
    "    x2 = float(input(\"Ingresa x2: \"))\n",
    "    y2 = float(input(\"Ingresa y2: \"))\n",
    "    punto1 = Punto(x2, y2)\n",
    "\n",
    "    t = float(input(\"Ingrese el valor de lambda: \"))\n",
    "    if 0 <= t <= 1:\n",
    "        punto_combinado = Punto.combinacion_convexa(punto, punto1, t)\n",
    "        print(\"La combinacion convexa de los puntos es: \", punto_combinado)\n",
    "\n",
    "        plt.plot([punto.x, punto1.x],[punto.y, punto1.y], marker='^', label=\"Puntos origen\")\n",
    "        plt.plot([punto.x, punto_combinado.x],[punto.y, punto_combinado.y], \n",
    "                 marker='^', color='red', label=\"Puntos combinados\")\n",
    "        plt.legend()\n",
    "        plt.grid(True)\n",
    "        plt.show()\n",
    "    else:\n",
    "        print(\":c\")\n",
    "\n",
    "main()"
   ]
  },
  {
   "cell_type": "markdown",
   "id": "26ab577b",
   "metadata": {},
   "source": [
    "## En volvente convexa de un conjunto de puntos"
   ]
  },
  {
   "cell_type": "code",
   "execution_count": null,
   "id": "56c1199c",
   "metadata": {},
   "outputs": [],
   "source": [
    "import matplotlib.pyplot as plt\n",
    "from scipy.spatial import ConvexHull\n",
    "from numpy import random\n",
    "\n",
    "def Generar_Puntos(num_puntos, limite_superior):\n",
    "    puntos = random.rand(num_puntos, 2)*limite_superior\n",
    "    \n",
    "    return puntos\n",
    "\n",
    "def graficar_puntos(puntos):\n",
    "    plt.plot(puntos[:,0], puntos[:,1], 'o')\n",
    "    plt.xlabel('Coordenada en X')\n",
    "    plt.ylabel('Coordenada en X')\n",
    "    \n",
    "    plt.title('Conjunto en puntos aleatorios')\n",
    "    \n",
    "    plt.grid(True)\n",
    "    plt.show()\n",
    "\n",
    "def graficar_convex_hull(puntos, convex_hull):\n",
    "    plt.plot(puntos[:, 0], puntos[:, 1], 'o')\n",
    "    for simplex in convex_hull.simplices:\n",
    "        plt.plot(puntos[simplex, 0], puntos[simplex, 1], 'k-')\n",
    "        plt.xlabel('Coordenada X')\n",
    "        plt.ylabel('Coordenada en Y')\n",
    "        plt.title('Envolvente convexa del conjunto de puntos')\n",
    "\n",
    "\n",
    "def main():\n",
    "    num_puntos = int(input(\"Ingrese el número de puntos a generar:\"))\n",
    "    limite_superior = int(input(\"Ingrese el limite superior para las coordenadas de los puntos\"))\n",
    "    # Generar los datos\n",
    "    puntos = Generar_Puntos(num_puntos, limite_superior)\n",
    "    # Graficar los puntos generados\n",
    "    graficar_puntos(puntos)\n",
    "    # Graficar la envolvente convexa\n",
    "    graficar_convex_hull(puntos, ConvexHull(puntos))\n",
    "\n",
    "\n",
    "if __name__ == \"__main__\":\n",
    "    main()"
   ]
  },
  {
   "cell_type": "code",
   "execution_count": null,
   "id": "de103cc1",
   "metadata": {},
   "outputs": [],
   "source": [
    "ConvexHull??"
   ]
  },
  {
   "cell_type": "markdown",
   "id": "c4758647",
   "metadata": {},
   "source": [
    "# Lab 2"
   ]
  },
  {
   "cell_type": "code",
   "execution_count": null,
   "id": "c1a76182",
   "metadata": {},
   "outputs": [],
   "source": []
  }
 ],
 "metadata": {
  "kernelspec": {
   "display_name": "Python 3 (ipykernel)",
   "language": "python",
   "name": "python3"
  },
  "language_info": {
   "codemirror_mode": {
    "name": "ipython",
    "version": 3
   },
   "file_extension": ".py",
   "mimetype": "text/x-python",
   "name": "python",
   "nbconvert_exporter": "python",
   "pygments_lexer": "ipython3",
   "version": "3.10.9"
  }
 },
 "nbformat": 4,
 "nbformat_minor": 5
}
