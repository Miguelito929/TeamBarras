{
 "cells": [
  {
   "cell_type": "code",
   "execution_count": 1,
   "id": "8e3bc91b",
   "metadata": {},
   "outputs": [
    {
     "name": "stdout",
     "output_type": "stream",
     "text": [
      "Requirement already satisfied: requests in c:\\users\\migue\\miniconda3\\envs\\myenv\\lib\\site-packages (2.31.0)\n",
      "Requirement already satisfied: beautifulsoup4 in c:\\users\\migue\\miniconda3\\envs\\myenv\\lib\\site-packages (4.11.1)\n",
      "Requirement already satisfied: idna<4,>=2.5 in c:\\users\\migue\\miniconda3\\envs\\myenv\\lib\\site-packages (from requests) (3.4)\n",
      "Requirement already satisfied: charset-normalizer<4,>=2 in c:\\users\\migue\\miniconda3\\envs\\myenv\\lib\\site-packages (from requests) (2.0.4)\n",
      "Requirement already satisfied: urllib3<3,>=1.21.1 in c:\\users\\migue\\miniconda3\\envs\\myenv\\lib\\site-packages (from requests) (1.26.14)\n",
      "Requirement already satisfied: certifi>=2017.4.17 in c:\\users\\migue\\miniconda3\\envs\\myenv\\lib\\site-packages (from requests) (2023.11.17)\n",
      "Requirement already satisfied: soupsieve>1.2 in c:\\users\\migue\\miniconda3\\envs\\myenv\\lib\\site-packages (from beautifulsoup4) (2.3.2.post1)\n"
     ]
    }
   ],
   "source": [
    "!pip install requests beautifulsoup4"
   ]
  },
  {
   "cell_type": "code",
   "execution_count": 2,
   "id": "9dfa0403",
   "metadata": {},
   "outputs": [],
   "source": [
    "import requests\n",
    "from bs4 import BeautifulSoup\n",
    "\n",
    "def find_pdf_links(url):\n",
    "    response = requests.get(url)\n",
    "    if response.status_code != 200:\n",
    "        print(f\"Failed to fetch the page. Status code: {response.status_code}\")\n",
    "        return\n",
    "    soup = BeautifulSoup(response.content, 'html.parser')\n",
    "    pdf_links = []\n",
    "    for link in soup.find_all('a', href=True):\n",
    "        href = link['href']\n",
    "        if href.lower().endswith('.pdf'):\n",
    "            pdf_links.append(href)\n",
    "    return pdf_links"
   ]
  },
  {
   "cell_type": "code",
   "execution_count": 3,
   "id": "288ebfe7",
   "metadata": {},
   "outputs": [],
   "source": [
    "url = 'https://siguealcongreso.org/temas/congelaci%C3%B3n-de-iniciativas/' \n",
    "pdf_links = find_pdf_links(url)"
   ]
  },
  {
   "cell_type": "code",
   "execution_count": 4,
   "id": "cb0c4537",
   "metadata": {},
   "outputs": [
    {
     "data": {
      "text/plain": [
       "['https://congresoweb.congresojal.gob.mx/infolej/sistemaintegral/infolej/../../agendakioskos/documentos/sistemaintegral/estados/R_51426.pdf',\n",
       " 'https://congresoweb.congresojal.gob.mx/infolej/sistemaintegral/infolej/../../agendakioskos/documentos/sistemaintegral/estados/R_51426.pdf',\n",
       " 'https://congresoweb.congresojal.gob.mx/infolej/sistemaintegral/infolej/../../agendakioskos/documentos/sistemaintegral/estados/135341.pdf']"
      ]
     },
     "execution_count": 4,
     "metadata": {},
     "output_type": "execute_result"
    }
   ],
   "source": [
    "pdf_links"
   ]
  }
 ],
 "metadata": {
  "kernelspec": {
   "display_name": "Python 3 (ipykernel)",
   "language": "python",
   "name": "python3"
  },
  "language_info": {
   "codemirror_mode": {
    "name": "ipython",
    "version": 3
   },
   "file_extension": ".py",
   "mimetype": "text/x-python",
   "name": "python",
   "nbconvert_exporter": "python",
   "pygments_lexer": "ipython3",
   "version": "3.10.9"
  }
 },
 "nbformat": 4,
 "nbformat_minor": 5
}
