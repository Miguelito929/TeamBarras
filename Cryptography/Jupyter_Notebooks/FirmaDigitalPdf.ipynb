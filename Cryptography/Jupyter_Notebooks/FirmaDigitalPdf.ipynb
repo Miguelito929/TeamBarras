{
 "cells": [
  {
   "cell_type": "code",
   "execution_count": 1,
   "id": "096cfeee",
   "metadata": {},
   "outputs": [
    {
     "name": "stdout",
     "output_type": "stream",
     "text": [
      "PDF obtenido de https://congresoweb.congresojal.gob.mx/infolej/sistemaintegral/infolej/../../agendakioskos/documentos/sistemaintegral/estados/R_50147.pdf y firmado.\n",
      "{'https://congresoweb.congresojal.gob.mx/infolej/sistemaintegral/infolej/../../agendakioskos/documentos/sistemaintegral/estados/R_50147.pdf': 163562441}\n"
     ]
    }
   ],
   "source": [
    "import hashlib\n",
    "import requests\n",
    "\n",
    "# Función para calcular el hash SHA-256 de datos binarios\n",
    "def hash_data(data):\n",
    "    sha256 = hashlib.sha256()\n",
    "    sha256.update(data)\n",
    "    return int.from_bytes(sha256.digest(), byteorder='big')\n",
    "\n",
    "# Función para firmar datos binarios\n",
    "def sign_data(private_key, data):\n",
    "    d, n = private_key\n",
    "    hash_value = hash_data(data)\n",
    "    signature = pow(hash_value, d, n)\n",
    "    return signature\n",
    "\n",
    "# Módulo inverso\n",
    "def modinv(a, m):\n",
    "    return pow(a,-1, m)\n",
    "\n",
    "# Genera las claves RSA\n",
    "def generate_rsa_keys():\n",
    "    # Uso de pequeños primos para ejemplo, cambia estos número lio\n",
    "    p = 104729\n",
    "    q = 103991\n",
    "    n = p * q\n",
    "    phi_n = (p - 1) * (q - 1)\n",
    "    e = 65537\n",
    "    d = modinv(e, phi_n)\n",
    "    return (e, n), (d, n)\n",
    "\n",
    "public_key, private_key = generate_rsa_keys()\n",
    "\n",
    "# Links de PDFs\n",
    "pdf_urls = [\n",
    "    'https://congresoweb.congresojal.gob.mx/infolej/sistemaintegral/infolej/../../agendakioskos/documentos/sistemaintegral/estados/R_50147.pdf'\n",
    "]\n",
    "\n",
    "def sign_pdfs_from_urls(pdf_urls, private_key):\n",
    "    signatures = {}\n",
    "    \n",
    "    for url in pdf_urls:\n",
    "        try:\n",
    "            # Obtener el contenido del PDF desde la URL\n",
    "            response = requests.get(url)\n",
    "            response.raise_for_status()  # Lanza un error si la descarga falla\n",
    "            \n",
    "            # Obtener datos binarios del PDF\n",
    "            pdf_data = response.content\n",
    "            \n",
    "            # Firmar los datos del PDF\n",
    "            signature = sign_data(private_key, pdf_data)\n",
    "            signatures[url] = signature\n",
    "            \n",
    "            print(f\"PDF obtenido de {url} y firmado.\")\n",
    "        \n",
    "        except requests.RequestException as e:\n",
    "            print(f\"Error al obtener {url}: {str(e)}\")\n",
    "        except Exception as e:\n",
    "            print(f\"Error al firmar {url}: {str(e)}\")\n",
    "    \n",
    "    return signatures\n",
    "\n",
    "# Firmar todos los PDFs desde las URLs y guardar las firmas\n",
    "signatures = sign_pdfs_from_urls(pdf_urls, private_key)\n",
    "print(signatures)"
   ]
  }
 ],
 "metadata": {
  "kernelspec": {
   "display_name": "Python 3 (ipykernel)",
   "language": "python",
   "name": "python3"
  },
  "language_info": {
   "codemirror_mode": {
    "name": "ipython",
    "version": 3
   },
   "file_extension": ".py",
   "mimetype": "text/x-python",
   "name": "python",
   "nbconvert_exporter": "python",
   "pygments_lexer": "ipython3",
   "version": "3.10.9"
  }
 },
 "nbformat": 4,
 "nbformat_minor": 5
}
