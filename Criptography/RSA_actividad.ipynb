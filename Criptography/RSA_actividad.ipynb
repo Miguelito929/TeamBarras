{
 "cells": [
  {
   "cell_type": "code",
   "execution_count": 1,
   "id": "6bce7ce5",
   "metadata": {},
   "outputs": [],
   "source": [
    "def gcd(a,b):\n",
    "    if a==0 or b==0: ## account for a or b == 0\n",
    "        return max(a,b), (1 if a>0 else 0), (1 if b>0 else 0)   \n",
    "    u, g, x, y = 1, a, 0, b\n",
    "    while y!=0:\n",
    "        q = g//y\n",
    "        s, t = u-q*x, g%y\n",
    "        u, g = x, y\n",
    "        x, y = s, t\n",
    "    v = (g-a*u)/b\n",
    "\n",
    "    ## make u as small as possible while u>0\n",
    "    if u<0:\n",
    "        u2 = abs(u)\n",
    "        increase = u2//(b//g) +1\n",
    "        u+=increase*(b//g)\n",
    "        v-=increase*(a//g)\n",
    "        \n",
    "    print(f'gcd = {g}, u = {u}, v = {int(v)}')\n",
    "    return u"
   ]
  },
  {
   "cell_type": "markdown",
   "id": "736d8d7d",
   "metadata": {},
   "source": [
    "## Nuestra llave pública\n",
    "\n",
    "Elegimos $p=6221$, $q=5443$, $e=65537$, para generar nuestra llave pública $(pq, e) = (33860903, 65537)$"
   ]
  },
  {
   "cell_type": "code",
   "execution_count": 104,
   "id": "24106fc7",
   "metadata": {
    "scrolled": true
   },
   "outputs": [
    {
     "name": "stdout",
     "output_type": "stream",
     "text": [
      "NUESTRA LLAVE PÚBLICA ES (33860903, 65537)\n"
     ]
    }
   ],
   "source": [
    "p = 6221\n",
    "q = 5443\n",
    "\n",
    "n = p*q\n",
    "\n",
    "e = 65537 \n",
    "\n",
    "phi_n = (p-1)*(q-1)\n",
    "print(f'NUESTRA LLAVE PÚBLICA ES {(n, e)}')"
   ]
  },
  {
   "cell_type": "markdown",
   "id": "99fddaab",
   "metadata": {},
   "source": [
    "## Cálculo de nuestra llave privada"
   ]
  },
  {
   "cell_type": "code",
   "execution_count": 82,
   "id": "d8a0c51f",
   "metadata": {},
   "outputs": [
    {
     "name": "stdout",
     "output_type": "stream",
     "text": [
      "gcd = 1, u = 8319113, v = -16107\n"
     ]
    }
   ],
   "source": [
    "d = gcd(e,phi_n)"
   ]
  },
  {
   "cell_type": "code",
   "execution_count": 83,
   "id": "f00b7c52",
   "metadata": {},
   "outputs": [
    {
     "data": {
      "text/plain": [
       "1"
      ]
     },
     "execution_count": 83,
     "metadata": {},
     "output_type": "execute_result"
    }
   ],
   "source": [
    "d*e % phi_n"
   ]
  },
  {
   "cell_type": "code",
   "execution_count": 84,
   "id": "f77c3da8",
   "metadata": {},
   "outputs": [
    {
     "name": "stdout",
     "output_type": "stream",
     "text": [
      "NUESTRA LLAVE PRIVADA (8319113)\n"
     ]
    }
   ],
   "source": [
    "print(f'NUESTRA LLAVE PRIVADA ({d})')"
   ]
  },
  {
   "cell_type": "markdown",
   "id": "3683b18d",
   "metadata": {},
   "source": [
    "## Llave pública de equipo 2\n",
    "\n",
    "Con esta llave pública, que recuperamos del grupo de Teams, vamos a encriptar un mensaje y mandarlo al equipo 2."
   ]
  },
  {
   "cell_type": "code",
   "execution_count": 95,
   "id": "197f68fe",
   "metadata": {},
   "outputs": [
    {
     "name": "stdout",
     "output_type": "stream",
     "text": [
      "LLAVE PÚBLICA DEL EQUIPO 2 (26601037, 65537)\n"
     ]
    }
   ],
   "source": [
    "n_2 = 26601037\n",
    "e_2 = 65537\n",
    "print(f\"LLAVE PÚBLICA DEL EQUIPO 2 {(n_2, e_2)}\")"
   ]
  },
  {
   "cell_type": "markdown",
   "id": "9180bfc1",
   "metadata": {},
   "source": [
    "## Nuestro mensaje a mandar"
   ]
  },
  {
   "cell_type": "code",
   "execution_count": 137,
   "id": "5c63097c",
   "metadata": {},
   "outputs": [],
   "source": [
    "s = 'cabecita a puertaaaa'"
   ]
  },
  {
   "cell_type": "code",
   "execution_count": 138,
   "id": "04cb4848",
   "metadata": {},
   "outputs": [
    {
     "data": {
      "text/plain": [
       "20"
      ]
     },
     "execution_count": 138,
     "metadata": {},
     "output_type": "execute_result"
    }
   ],
   "source": [
    "len(s)"
   ]
  },
  {
   "cell_type": "markdown",
   "id": "3a4dd2e9",
   "metadata": {},
   "source": [
    "## Preparación del mensaje"
   ]
  },
  {
   "cell_type": "code",
   "execution_count": 112,
   "id": "b23ba0a8",
   "metadata": {},
   "outputs": [],
   "source": [
    "numeros = [ord(x)-96 if x != ' ' else 0 for x in s]"
   ]
  },
  {
   "cell_type": "code",
   "execution_count": 113,
   "id": "53effe51",
   "metadata": {},
   "outputs": [
    {
     "data": {
      "text/plain": [
       "[[3, 1, 2, 5], [3, 9, 20, 1], [0, 1, 0, 16], [21, 5, 18, 20], [1, 1, 1, 1]]"
      ]
     },
     "execution_count": 113,
     "metadata": {},
     "output_type": "execute_result"
    }
   ],
   "source": [
    "bloques = []\n",
    "for i in range(4, 24, 4):\n",
    "    bloques.append((numeros[-4 + i:i]))\n",
    "bloques"
   ]
  },
  {
   "cell_type": "markdown",
   "id": "f92ba87a",
   "metadata": {},
   "source": [
    "## Cifrado del mensaje"
   ]
  },
  {
   "cell_type": "code",
   "execution_count": 114,
   "id": "e1263091",
   "metadata": {},
   "outputs": [],
   "source": [
    "def cifrar_rsa(m, l):\n",
    "    return m[3] + m[2]*l + m[1]*(l**2) + m[0]*(l**3)"
   ]
  },
  {
   "cell_type": "code",
   "execution_count": 117,
   "id": "9c42fc61",
   "metadata": {},
   "outputs": [
    {
     "data": {
      "text/plain": [
       "[59837, 66151, 745, 417494, 20440]"
      ]
     },
     "execution_count": 117,
     "metadata": {},
     "output_type": "execute_result"
    }
   ],
   "source": [
    "mensaje = []\n",
    "for i,m in enumerate(bloques): mensaje.append(cifrar_rsa(m, 27))\n",
    "    \n",
    "mensaje"
   ]
  },
  {
   "cell_type": "markdown",
   "id": "f2f79cd3",
   "metadata": {},
   "source": [
    "## Encripción del mensaje"
   ]
  },
  {
   "cell_type": "code",
   "execution_count": 120,
   "id": "1fd9fa77",
   "metadata": {},
   "outputs": [
    {
     "data": {
      "text/plain": [
       "[24664452, 4295140, 10008554, 12319427, 19778016]"
      ]
     },
     "execution_count": 120,
     "metadata": {},
     "output_type": "execute_result"
    }
   ],
   "source": [
    "## Encriptar\n",
    "encriptado = [pow(m,e_2,n_2) for m in mensaje]\n",
    "encriptado"
   ]
  },
  {
   "cell_type": "markdown",
   "id": "e83d2891",
   "metadata": {},
   "source": [
    "**Este es el mensaje encriptado que mandamos al equipo 2**: `[24664452, 4295140, 10008554, 12319427, 19778016]`"
   ]
  },
  {
   "cell_type": "markdown",
   "id": "c130c6da",
   "metadata": {},
   "source": [
    "## Desencripción de mensajes"
   ]
  },
  {
   "cell_type": "code",
   "execution_count": 20,
   "id": "c6709dbd",
   "metadata": {},
   "outputs": [],
   "source": [
    "def desencriptar_c(n,d,c):\n",
    "\n",
    "    m = pow(c, d, n)\n",
    "    \n",
    "    return m"
   ]
  },
  {
   "cell_type": "code",
   "execution_count": 131,
   "id": "a73a7037",
   "metadata": {},
   "outputs": [],
   "source": [
    "def convertir_palabra(num, l):\n",
    "    letras = []\n",
    "    while num > 0:\n",
    "        letra_num = num % l\n",
    "        if letra_num == 0:\n",
    "            letra = ' '\n",
    "        else:\n",
    "            letra =  chr(letra_num+96)\n",
    "        \n",
    "        letras.append(letra)\n",
    "        num = num // l\n",
    "    if len(letras) != 4:\n",
    "        letras.append(' ')\n",
    "    return ''.join(letras)[::-1]"
   ]
  },
  {
   "cell_type": "markdown",
   "id": "513a7042",
   "metadata": {},
   "source": [
    "**Este es el mensaje que recibimos del equipo 3**: `[10061897, 12347467, 11509035, 11114322, 4806613]`"
   ]
  },
  {
   "cell_type": "code",
   "execution_count": 139,
   "id": "2748a20a",
   "metadata": {},
   "outputs": [],
   "source": [
    "mensaje_mike = [10061897, 12347467, 11509035, 11114322, 4806613]"
   ]
  },
  {
   "cell_type": "code",
   "execution_count": 133,
   "id": "14aa2682",
   "metadata": {},
   "outputs": [
    {
     "data": {
      "text/plain": [
       "'leolio boletos akron'"
      ]
     },
     "execution_count": 133,
     "metadata": {},
     "output_type": "execute_result"
    }
   ],
   "source": [
    "m = ''.join([convertir_palabra(x, 27) for x in [desencriptar_c(n,d,x) for x in mensaje_mike]])\n",
    "m "
   ]
  },
  {
   "cell_type": "markdown",
   "id": "466da203",
   "metadata": {},
   "source": [
    "**El mensaje que nos mandaron es 'leolio boletos akron'**"
   ]
  },
  {
   "cell_type": "markdown",
   "id": "57dc11c4",
   "metadata": {},
   "source": [
    "## Volvemos a encriptar este mensaje con la clave pública del equipo que nos lo mandó"
   ]
  },
  {
   "cell_type": "code",
   "execution_count": 70,
   "id": "3bceab9c",
   "metadata": {},
   "outputs": [],
   "source": [
    "# Mensaje cifrado\n",
    "m_ellos_cifrado = [desencriptar_c(n,d,x) for x in mensaje_mike]\n",
    "# llave pública de ellos\n",
    "n_ellos, e_ellos = (6343123, 65537)\n",
    "# encriptamos el mensaje con su llave pública\n",
    "m_encriptado = [pow(m, e_ellos, n_ellos) for m in m_ellos_cifrado]"
   ]
  },
  {
   "cell_type": "code",
   "execution_count": 71,
   "id": "c16be892",
   "metadata": {},
   "outputs": [
    {
     "data": {
      "text/plain": [
       "[3927278, 3300709, 4702408, 6002710, 772705]"
      ]
     },
     "execution_count": 71,
     "metadata": {},
     "output_type": "execute_result"
    }
   ],
   "source": [
    "m_encriptado"
   ]
  },
  {
   "cell_type": "markdown",
   "id": "02055ca9",
   "metadata": {},
   "source": [
    "El mensaje que nos mandaron lo encriptamos de nuevo, con la llave pública del equipo que nos lo mandó, para obtener el siguiente mensaje encriptado: `[3927278, 3300709, 4702408, 6002710, 772705]`"
   ]
  },
  {
   "cell_type": "markdown",
   "id": "87533ed1",
   "metadata": {},
   "source": [
    "## Desencriptamos el mensaje que nos devolvieron, que debe ser el que originalmente mandamos"
   ]
  },
  {
   "cell_type": "code",
   "execution_count": 134,
   "id": "666b8996",
   "metadata": {},
   "outputs": [],
   "source": [
    "m_devuelto = [19998916, 13114800, 13578549, 27798912, 20926200]\n",
    "m_original = ''.join([convertir_palabra(x, 27) for x in [desencriptar_c(n,d,x) for x in m_devuelto]])"
   ]
  },
  {
   "cell_type": "code",
   "execution_count": 135,
   "id": "bbe7f457",
   "metadata": {},
   "outputs": [
    {
     "data": {
      "text/plain": [
       "'cabecita a puertaaaa'"
      ]
     },
     "execution_count": 135,
     "metadata": {},
     "output_type": "execute_result"
    }
   ],
   "source": [
    "m_original"
   ]
  },
  {
   "cell_type": "code",
   "execution_count": 136,
   "id": "62669be8",
   "metadata": {},
   "outputs": [
    {
     "data": {
      "text/plain": [
       "True"
      ]
     },
     "execution_count": 136,
     "metadata": {},
     "output_type": "execute_result"
    }
   ],
   "source": [
    "m_original == s"
   ]
  },
  {
   "cell_type": "markdown",
   "id": "79395094",
   "metadata": {},
   "source": [
    "**El mensaje que nos mandaron de regreso sí es el mismo que nosotros mandamos**"
   ]
  },
  {
   "cell_type": "markdown",
   "id": "067fe157",
   "metadata": {},
   "source": [
    "## Intentar romper la clave privada de un equipo: equipo 6\n",
    "Su $N=15142739$"
   ]
  },
  {
   "cell_type": "code",
   "execution_count": 76,
   "id": "abf9cc3b",
   "metadata": {},
   "outputs": [],
   "source": [
    "N = 15142739\n",
    "# fuerza bruta: ver qué número de 2-raiz(N) es factor de N\n",
    "raiz_N = int(N**(1/2))\n",
    "p = 0\n",
    "for i in range(2, raiz_N):\n",
    "    if N % i == 0:\n",
    "        p = i\n",
    "        break"
   ]
  },
  {
   "cell_type": "code",
   "execution_count": 77,
   "id": "7ac25978",
   "metadata": {},
   "outputs": [
    {
     "data": {
      "text/plain": [
       "2693"
      ]
     },
     "execution_count": 77,
     "metadata": {},
     "output_type": "execute_result"
    }
   ],
   "source": [
    "p"
   ]
  },
  {
   "cell_type": "markdown",
   "id": "75b496e7",
   "metadata": {},
   "source": [
    "Uno de los factores de N es 2693. Con Wolfram verificamos que sí es un número primo.\n",
    "¿Cuál es el otro factor?"
   ]
  },
  {
   "cell_type": "code",
   "execution_count": 78,
   "id": "ba77b864",
   "metadata": {},
   "outputs": [
    {
     "data": {
      "text/plain": [
       "5623.0"
      ]
     },
     "execution_count": 78,
     "metadata": {},
     "output_type": "execute_result"
    }
   ],
   "source": [
    "q = N / factor\n",
    "q"
   ]
  },
  {
   "cell_type": "markdown",
   "id": "a66334ab",
   "metadata": {},
   "source": [
    "$N = pq$, donde $p=2693$, y $q=5623$, con $p,q$ primos.\n",
    "\n",
    "$\\Phi(N) = (p-1)(q-1) = 15134424$\n",
    "\n",
    "$\\Phi(N) = N - (p + q) + 1 = 15142739 - (2693 + 5623) + 1 = 15134424$"
   ]
  },
  {
   "cell_type": "code",
   "execution_count": 80,
   "id": "cf4015f0",
   "metadata": {},
   "outputs": [
    {
     "data": {
      "text/plain": [
       "True"
      ]
     },
     "execution_count": 80,
     "metadata": {},
     "output_type": "execute_result"
    }
   ],
   "source": [
    "((p - 1)*(q - 1)) == (N - (p + q) + 1)"
   ]
  }
 ],
 "metadata": {
  "kernelspec": {
   "display_name": "Python 3 (ipykernel)",
   "language": "python",
   "name": "python3"
  },
  "language_info": {
   "codemirror_mode": {
    "name": "ipython",
    "version": 3
   },
   "file_extension": ".py",
   "mimetype": "text/x-python",
   "name": "python",
   "nbconvert_exporter": "python",
   "pygments_lexer": "ipython3",
   "version": "3.10.9"
  }
 },
 "nbformat": 4,
 "nbformat_minor": 5
}
